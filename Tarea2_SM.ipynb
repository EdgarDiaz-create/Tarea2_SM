{
 "cells": [
  {
   "cell_type": "markdown",
   "metadata": {},
   "source": [
    "## 5 RAZONES POR LAS QUE DEBES APRENDER PYTHON"
   ]
  },
  {
   "cell_type": "markdown",
   "metadata": {},
   "source": [
    "En este artículo te habla sobre porque deberías aprender python comparando a este lenguaje de programación con otros y viendo que la sintaxis es mucho más fácil en python para llegar al mismo resultado, siendo la otra mucho más dificil.\n",
    "También explica que no por ser un lenguaje fácil python es un programa solo para universitarios que estan aprendiedo a programar, si no que es un lenguae muy fuerte. En la lectura da un ejemplo el como la  página de clientes de Dropbox esta hecha totalmente a base de python. También, muchas otras compañias de la categoría de Google, Netflix y Spotify usan Python para diferentes funciones en sus sistemas."
   ]
  }
 ],
 "metadata": {
  "kernelspec": {
   "display_name": "Python 3",
   "language": "python",
   "name": "python3"
  },
  "language_info": {
   "codemirror_mode": {
    "name": "ipython",
    "version": 3
   },
   "file_extension": ".py",
   "mimetype": "text/x-python",
   "name": "python",
   "nbconvert_exporter": "python",
   "pygments_lexer": "ipython3",
   "version": "3.7.4"
  }
 },
 "nbformat": 4,
 "nbformat_minor": 2
}
