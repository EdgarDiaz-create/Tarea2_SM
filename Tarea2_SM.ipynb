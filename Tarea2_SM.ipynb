{
 "cells": [
  {
   "cell_type": "markdown",
   "metadata": {},
   "source": [
    "## 5 RAZONES POR LAS QUE DEBES APRENDER PYTHON"
   ]
  },
  {
   "cell_type": "markdown",
   "metadata": {},
   "source": [
    "En este artículo te habla sobre porque deberías aprender python comparando a este lenguaje de programación con otros y viendo que la sintaxis es mucho más fácil en python para llegar al mismo resultado, siendo la otra mucho más dificil.\n",
    "También explica que no por ser un lenguaje fácil python es un programa solo para universitarios que estan aprendiedo a programar, si no que es un lenguae muy fuerte. En la lectura da un ejemplo el como la  página de clientes de Dropbox esta hecha totalmente a base de python. También, muchas otras compañias de la categoría de Google, Netflix y Spotify usan Python para diferentes funciones en sus sistemas."
   ]
  },
  {
   "cell_type": "markdown",
   "metadata": {},
   "source": [
    "## 7 IMPORTANTES RAZONES POR LAS QUE DEBES APRENDER PYTHON"
   ]
  },
  {
   "cell_type": "markdown",
   "metadata": {},
   "source": [
    "La primera razón que este articulo menciona es que en python puedes usar especies de *shortcuts* para programar la cual es una ventaja en que tu proma se ve más ordenado y con menos lineas de código. En la segunda la razón lo que entiendo es que python también entiende varias formas de programación asi haciendolo capaz de competir con cualquier otro y sobresalir. La tercera razón explica que no debes compilar de nuevo el códgio asi haciendo que python pueda trabajar en casi cualquier plataforma, más versátil. La cuarta describe las librerias con las que python cuenta que son demasiadas que ayudan a tener una mucho mejor experiencia que en otros lenguajes de programación. La quinta razón es más enfocada a los negocios ya que ecplica que puedes utilizar python de manera muy eficiente sin aumentar ningún costo. La sexta explica que Python puee ser usado para casi cualquier cosa como crear una app o unna página web de lo que se desee es un lenguaje como ya se menciono muy versátil que gracias a sus librerias el unico limite es la imaginación. La séptima y última razón explica que se pueden hacer simulaciones de apps y a su mismo tiempo "
   ]
  },
  {
   "cell_type": "code",
   "execution_count": null,
   "metadata": {},
   "outputs": [],
   "source": []
  }
 ],
 "metadata": {
  "kernelspec": {
   "display_name": "Python 3",
   "language": "python",
   "name": "python3"
  },
  "language_info": {
   "codemirror_mode": {
    "name": "ipython",
    "version": 3
   },
   "file_extension": ".py",
   "mimetype": "text/x-python",
   "name": "python",
   "nbconvert_exporter": "python",
   "pygments_lexer": "ipython3",
   "version": "3.7.4"
  }
 },
 "nbformat": 4,
 "nbformat_minor": 2
}
